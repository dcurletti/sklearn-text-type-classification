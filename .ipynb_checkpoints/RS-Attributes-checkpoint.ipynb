{
 "cells": [
  {
   "cell_type": "code",
   "execution_count": 1,
   "metadata": {
    "collapsed": false
   },
   "outputs": [],
   "source": [
    "import pandas as pd\n",
    "import numpy as np\n",
    "import sklearn\n",
    "from sklearn.feature_extraction.text import CountVectorizer\n",
    "from sklearn.naive_bayes import MultinomialNB, GaussianNB\n",
    "from sklearn.neighbors import KNeighborsClassifier\n",
    "from sklearn import cross_validation"
   ]
  },
  {
   "cell_type": "code",
   "execution_count": 2,
   "metadata": {
    "collapsed": false
   },
   "outputs": [],
   "source": [
    "# Training data\n",
    "df_addresses = pd.read_csv('./data/train/bayeast_addresses.csv')\n",
    "df_zips = pd.read_csv('./data/train/bayeast_zips.csv')\n",
    "df_listing_agent_emails = pd.read_csv('./data/train/bayeast_listing_agent_emails.csv')"
   ]
  },
  {
   "cell_type": "code",
   "execution_count": 3,
   "metadata": {
    "collapsed": true
   },
   "outputs": [],
   "source": [
    "# Classify the training data\n",
    "df_addresses['class'] = 1 # rs_loc_full_address, address\n",
    "df_zips['class'] = 2 # rs_loc_postal_code, zipcode\n",
    "df_listing_agent_emails['class'] = 3 # rs_listing_agent_email, email"
   ]
  },
  {
   "cell_type": "code",
   "execution_count": 4,
   "metadata": {
    "collapsed": true
   },
   "outputs": [],
   "source": [
    "# Merge the datasets together\n",
    "df = df_addresses.append(df_zips)\n",
    "df = df.append(df_listing_agent_emails)"
   ]
  },
  {
   "cell_type": "code",
   "execution_count": 5,
   "metadata": {
    "collapsed": true
   },
   "outputs": [],
   "source": [
    "# Data cleansing (sleuthing?)\n",
    "df = df[df.value != '\\\\N']"
   ]
  },
  {
   "cell_type": "code",
   "execution_count": 6,
   "metadata": {
    "collapsed": false
   },
   "outputs": [],
   "source": [
    "# Tokenize the value class\n",
    "count_vect = CountVectorizer()\n",
    "count_vect.fit(df['value'])\n",
    "X = count_vect.transform(df['value'])\n",
    "y = df['class']"
   ]
  },
  {
   "cell_type": "code",
   "execution_count": 7,
   "metadata": {
    "collapsed": false
   },
   "outputs": [
    {
     "name": "stdout",
     "output_type": "stream",
     "text": [
      "0.982437352752\n"
     ]
    }
   ],
   "source": [
    "# Train the model\n",
    "# clf = MultinomialNB()\n",
    "clf = GaussianNB()\n",
    "X = X.toarray()\n",
    "\n",
    "X_train, X_test, y_train, y_test = cross_validation.train_test_split(X, y, test_size=0.2)\n",
    "\n",
    "clf.fit(X_train, y_train)\n",
    "confidence = clf.score(X_test, y_test)\n",
    "print(confidence)"
   ]
  },
  {
   "cell_type": "code",
   "execution_count": 8,
   "metadata": {
    "collapsed": false
   },
   "outputs": [
    {
     "name": "stdout",
     "output_type": "stream",
     "text": [
      "0.996358495416\n"
     ]
    }
   ],
   "source": [
    "# self check\n",
    "predictions = clf.predict(X)\n",
    "print(sum(predictions == df['class'])/ len(df.index)) "
   ]
  },
  {
   "cell_type": "code",
   "execution_count": 9,
   "metadata": {
    "collapsed": false
   },
   "outputs": [],
   "source": [
    "# Import Test data\n",
    "df_test_addresses = pd.read_csv('./data/test/mlslistings_addresses.csv')\n",
    "df_test_zips = pd.read_csv('./data/test/mlslistings_zips.csv')\n",
    "df_test_listing_agent_emails = pd.read_csv('./data/test/mlslistings_listing_agent_emails.csv')"
   ]
  },
  {
   "cell_type": "code",
   "execution_count": 10,
   "metadata": {
    "collapsed": true
   },
   "outputs": [],
   "source": [
    "# Manually classify\n",
    "df_test_addresses['class'] = 1\n",
    "df_test_zips['class'] = 2\n",
    "df_test_listing_agent_emails['class'] = 3"
   ]
  },
  {
   "cell_type": "code",
   "execution_count": 11,
   "metadata": {
    "collapsed": true
   },
   "outputs": [],
   "source": [
    "# Combine the test data\n",
    "df_test = df_test_addresses.append(df_test_zips)\n",
    "df_test = df_test.append(df_test_listing_agent_emails)"
   ]
  },
  {
   "cell_type": "code",
   "execution_count": 12,
   "metadata": {
    "collapsed": true
   },
   "outputs": [],
   "source": [
    "# Data cleansing (sleuthing?)\n",
    "df_test = df_test[df_test.value != '\\\\N']"
   ]
  },
  {
   "cell_type": "code",
   "execution_count": 13,
   "metadata": {
    "collapsed": false
   },
   "outputs": [
    {
     "name": "stdout",
     "output_type": "stream",
     "text": [
      "0.983539862646\n"
     ]
    }
   ],
   "source": [
    "# predictions = clf.predict(count_vect.transform(df_test['value']))\n",
    "predictions = clf.predict(count_vect.transform(df_test['value']).toarray())\n",
    "print(sum(predictions == df_test['class'])/ len(df_test.index)) "
   ]
  },
  {
   "cell_type": "code",
   "execution_count": 14,
   "metadata": {
    "collapsed": false
   },
   "outputs": [
    {
     "data": {
      "text/plain": [
       "array([3])"
      ]
     },
     "execution_count": 14,
     "metadata": {},
     "output_type": "execute_result"
    }
   ],
   "source": [
    "# Manual Testing\n",
    "# clf.predict(count_vect.transform(['48331']))\n",
    "clf.predict(count_vect.transform(['thenastyone@gmail.com']).toarray())"
   ]
  },
  {
   "cell_type": "code",
   "execution_count": null,
   "metadata": {
    "collapsed": true
   },
   "outputs": [],
   "source": []
  }
 ],
 "metadata": {
  "kernelspec": {
   "display_name": "Python 3",
   "language": "python",
   "name": "python3"
  },
  "language_info": {
   "codemirror_mode": {
    "name": "ipython",
    "version": 3
   },
   "file_extension": ".py",
   "mimetype": "text/x-python",
   "name": "python",
   "nbconvert_exporter": "python",
   "pygments_lexer": "ipython3",
   "version": "3.5.2"
  }
 },
 "nbformat": 4,
 "nbformat_minor": 1
}
